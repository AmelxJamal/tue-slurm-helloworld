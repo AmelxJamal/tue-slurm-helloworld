{
 "cells": [
  {
   "cell_type": "code",
   "execution_count": null,
   "metadata": {},
   "outputs": [],
   "source": [
    "import torch\n",
    "from timeit import timeit\n",
    "import argparse\n"
   ]
  },
  {
   "cell_type": "code",
   "execution_count": null,
   "metadata": {},
   "outputs": [],
   "source": [
    "\n",
    "def time_multiplication(timer_repetitions, use_gpu=True):\n",
    "\n",
    "    # Create tensors\n",
    "    x = torch.randn(32, 40000)\n",
    "    y = torch.randn(40000, 32)\n",
    "    \n",
    "    # Check if Cuda available and move tensor to Cuda if yes\n",
    "    cuda_available = torch.cuda.is_available() \n",
    "    print(f\"Cuda_available={cuda_available}\")\n",
    "    if cuda_available and use_gpu:\n",
    "        device = torch.cuda.current_device()\n",
    "        print(f\"Current Cuda device: {device}\")\n",
    "        x = x.to(device)\n",
    "        y = y.to(device)\n",
    "\n",
    "    # Multiply matrix first once for result and then multiple times for measuring elapsed time\n",
    "    mult = torch.matmul(x, y)\n",
    "    elapsed_time = timeit(lambda: torch.matmul(x, y), number=timer_repetitions)\n",
    "\n",
    "    return mult, elapsed_time\n",
    "\n"
   ]
  },
  {
   "cell_type": "code",
   "execution_count": null,
   "metadata": {},
   "outputs": [],
   "source": [
    "# Measure matrix multiplication time\n",
    "mult, elapsed_time = time_multiplication(timer_repetitions=100, use_gpu=False)\n",
    "\n",
    "# Print some results:\n",
    "print(\"result:\")\n",
    "print(mult)\n",
    "print(\"Output shape\", mult.shape)\n",
    "print(f\"elapsed time: {elapsed_time}\")"
   ]
  },
  {
   "cell_type": "code",
   "execution_count": null,
   "metadata": {},
   "outputs": [],
   "source": [
    "# Write results to file.\n",
    "\n",
    "# Caveat: Please adapt the path to somewhere you have write access\n",
    "\n",
    "# Caveat: If you execute the code from a container, make sure you bind the directory you write to\n",
    "\n",
    "file_name = '/mnt/qb/berens/lkoch/slurm-tutorial/experiments/results.txt'\n",
    "\n",
    "with open(file_name, 'w') as fhandle:\n",
    "    fhandle.write(f\"elapsed time: {elapsed_time}\")\n",
    "\n"
   ]
  }
 ],
 "metadata": {
  "kernelspec": {
   "display_name": "Python 3",
   "language": "python",
   "name": "python3"
  },
  "language_info": {
   "codemirror_mode": {
    "name": "ipython",
    "version": 3
   },
   "file_extension": ".py",
   "mimetype": "text/x-python",
   "name": "python",
   "nbconvert_exporter": "python",
   "pygments_lexer": "ipython3",
   "version": "3.8.5"
  }
 },
 "nbformat": 4,
 "nbformat_minor": 2
}